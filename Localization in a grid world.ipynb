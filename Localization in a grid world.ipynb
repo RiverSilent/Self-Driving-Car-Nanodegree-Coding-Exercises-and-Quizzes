{
 "cells": [
  {
   "cell_type": "code",
   "execution_count": 1,
   "metadata": {
    "collapsed": true
   },
   "outputs": [],
   "source": [
    "p = [0.2,0.2,0.2,0.2,0.2] # initial uniform probability distribution\n",
    "world = ['green','red','red','green','green']\n",
    "Z = 'red' # measurement"
   ]
  },
  {
   "cell_type": "code",
   "execution_count": 2,
   "metadata": {
    "collapsed": true
   },
   "outputs": [],
   "source": [
    "pHit = 0.6 # Multiplicative factor when a grid matches with the sensor reading\n",
    "pMiss = 0.2 # Multiplicative factor when a grid does not match with the sensor reading"
   ]
  },
  {
   "cell_type": "code",
   "execution_count": 5,
   "metadata": {
    "collapsed": true
   },
   "outputs": [],
   "source": [
    "def sense(p,Z):\n",
    "    '''\n",
    "    A function that takes in an initial probability distribution and the sensor measurement.\n",
    "    Returns a non-normalized posterior probability distribution.\n",
    "    '''\n",
    "    \n",
    "    q = []\n",
    "    for j in range(len(world)):\n",
    "        if Z == world[j]:\n",
    "            q.append(p[j] * pHit)\n",
    "        else:\n",
    "            q.append(p[j] * pMiss)\n",
    "    return q"
   ]
  },
  {
   "cell_type": "code",
   "execution_count": 6,
   "metadata": {
    "collapsed": false
   },
   "outputs": [
    {
     "name": "stdout",
     "output_type": "stream",
     "text": [
      "[0.04000000000000001, 0.12, 0.12, 0.04000000000000001, 0.04000000000000001]\n"
     ]
    }
   ],
   "source": [
    "print(sense(p,Z))"
   ]
  },
  {
   "cell_type": "code",
   "execution_count": 9,
   "metadata": {
    "collapsed": true
   },
   "outputs": [],
   "source": [
    "def sense_normalized(p,Z):\n",
    "    '''\n",
    "    A function that takes in an initial probability distribution and the sensor measurement. \n",
    "    Returns a normalized posterior probability distribution.\n",
    "    '''\n",
    "    q = []\n",
    "    for j in range(len(world)):\n",
    "        if Z == world[j]:\n",
    "            q.append(p[j] * pHit)\n",
    "        else:\n",
    "            q.append(p[j] * pMiss)\n",
    "            q_norm = []\n",
    "    for k in range(len(q)):\n",
    "        q_norm.append(q[k]/sum(q))\n",
    "    return q_norm"
   ]
  },
  {
   "cell_type": "code",
   "execution_count": 10,
   "metadata": {
    "collapsed": false
   },
   "outputs": [
    {
     "name": "stdout",
     "output_type": "stream",
     "text": [
      "[0.1111111111111111, 0.3333333333333332, 0.3333333333333332, 0.1111111111111111, 0.1111111111111111]\n"
     ]
    }
   ],
   "source": [
    "print(sense_normalized(p,Z))"
   ]
  },
  {
   "cell_type": "code",
   "execution_count": 11,
   "metadata": {
    "collapsed": true
   },
   "outputs": [],
   "source": [
    "Z = 'green'"
   ]
  },
  {
   "cell_type": "code",
   "execution_count": 12,
   "metadata": {
    "collapsed": false
   },
   "outputs": [
    {
     "data": {
      "text/plain": [
       "[0.2727272727272727,\n",
       " 0.09090909090909093,\n",
       " 0.09090909090909093,\n",
       " 0.2727272727272727,\n",
       " 0.2727272727272727]"
      ]
     },
     "execution_count": 12,
     "metadata": {},
     "output_type": "execute_result"
    }
   ],
   "source": [
    "sense_normalized(p,Z)"
   ]
  },
  {
   "cell_type": "code",
   "execution_count": null,
   "metadata": {
    "collapsed": true
   },
   "outputs": [],
   "source": []
  }
 ],
 "metadata": {
  "kernelspec": {
   "display_name": "Python [conda env:River]",
   "language": "python",
   "name": "conda-env-River-py"
  },
  "language_info": {
   "codemirror_mode": {
    "name": "ipython",
    "version": 3
   },
   "file_extension": ".py",
   "mimetype": "text/x-python",
   "name": "python",
   "nbconvert_exporter": "python",
   "pygments_lexer": "ipython3",
   "version": "3.5.2"
  }
 },
 "nbformat": 4,
 "nbformat_minor": 1
}
